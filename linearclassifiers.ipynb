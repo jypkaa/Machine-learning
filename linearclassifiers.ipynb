{
 "cells": [
  {
   "cell_type": "markdown",
   "source": [
    "Here we will learn how to run linear classifiers on jupyter\n",
    "notebook.\n",
    "Aim: code the random linear classifier algo in python\n",
    "tools: installation of python, pycharm installation, jupyter notebook install,scikit-learn to be installed along with numpy,matplotlib.\n",
    "\n",
    "problem: x1=whisker length and x2= ear flappiness index.\n",
    "let the linear classifier be represented by theta1x1+theta2x2+theta_0=0\n",
    "\n",
    "algo:random linear classifier.\n",
    "\n",
    "AIM: to find optimal theta_0,theta1,theta2.\n",
    "step1: try k random choices of theta_0,theta1,theta2.(in this case k=100).\n",
    "step2:compute training error for each of the k hypothesis. \n",
    "step3: choose the H with lowest error.\n",
    "\n",
    "How to find training error?\n",
    "theta* 1x1+theta* 2x2+theta* _0 =0\n",
    "                             if >0 then ans is +1\n",
    "                             else answer is -1\n",
    "this is nothing but like dot product between theta and dog data.\n",
    "so it means that if  for dog data we get <0(in our case -1) , then there is an error. "
   ],
   "metadata": {
    "collapsed": false
   },
   "id": "59c0f277ca49197c"
  },
  {
   "cell_type": "code",
   "outputs": [],
   "source": [
    "import numpy as np\n",
    "import matplotlib.pyplot as plt"
   ],
   "metadata": {
    "collapsed": false,
    "ExecuteTime": {
     "end_time": "2024-05-15T18:10:19.001996400Z",
     "start_time": "2024-05-15T18:10:17.893230400Z"
    }
   },
   "id": "cefc236eb7e343c6",
   "execution_count": 11
  },
  {
   "cell_type": "code",
   "outputs": [],
   "source": [
    "np.random.seed(0)"
   ],
   "metadata": {
    "collapsed": false,
    "ExecuteTime": {
     "end_time": "2024-05-15T18:10:19.132176200Z",
     "start_time": "2024-05-15T18:10:18.786607500Z"
    }
   },
   "id": "e15a16c4e6bcfb79",
   "execution_count": 12
  },
  {
   "cell_type": "code",
   "outputs": [],
   "source": [
    "dogs_whisker_length = np.random.normal(loc=5, scale=1, size=10)\n",
    "dogs_ear_flappiness_index = np.random.normal(loc=8, scale=1, size=10)"
   ],
   "metadata": {
    "collapsed": false,
    "ExecuteTime": {
     "end_time": "2024-05-15T18:10:19.790501100Z",
     "start_time": "2024-05-15T18:10:19.140044500Z"
    }
   },
   "id": "c4ed16ac2ac74251",
   "execution_count": 13
  },
  {
   "cell_type": "code",
   "outputs": [
    {
     "data": {
      "text/plain": "array([6.76405235, 5.40015721, 5.97873798, 7.2408932 , 6.86755799,\n       4.02272212, 5.95008842, 4.84864279, 4.89678115, 5.4105985 ])"
     },
     "execution_count": 14,
     "metadata": {},
     "output_type": "execute_result"
    }
   ],
   "source": [
    "dogs_whisker_length"
   ],
   "metadata": {
    "collapsed": false,
    "ExecuteTime": {
     "end_time": "2024-05-15T18:10:20.400529600Z",
     "start_time": "2024-05-15T18:10:19.588523200Z"
    }
   },
   "id": "960520e8b595943f",
   "execution_count": 14
  },
  {
   "cell_type": "code",
   "outputs": [
    {
     "data": {
      "text/plain": "array([8.14404357, 9.45427351, 8.76103773, 8.12167502, 8.44386323,\n       8.33367433, 9.49407907, 7.79484174, 8.3130677 , 7.14590426])"
     },
     "execution_count": 15,
     "metadata": {},
     "output_type": "execute_result"
    }
   ],
   "source": [
    "dogs_ear_flappiness_index"
   ],
   "metadata": {
    "collapsed": false,
    "ExecuteTime": {
     "end_time": "2024-05-15T18:10:20.953966400Z",
     "start_time": "2024-05-15T18:10:20.220693200Z"
    }
   },
   "id": "5372eca3593bbf98",
   "execution_count": 15
  },
  {
   "cell_type": "code",
   "outputs": [],
   "source": [
    "# Cats: lower ear flappiness index, higher whisker length\n",
    "cats_whisker_length = np.random.normal(loc=8, scale=1, size=10)\n",
    "cats_ear_flappiness_index = np.random.normal(loc=5, scale=1, size=10)"
   ],
   "metadata": {
    "collapsed": false,
    "ExecuteTime": {
     "end_time": "2024-05-15T18:10:21.425974300Z",
     "start_time": "2024-05-15T18:10:20.743259400Z"
    }
   },
   "id": "daeef3167a3e0aa7",
   "execution_count": 16
  },
  {
   "cell_type": "code",
   "outputs": [
    {
     "data": {
      "text/plain": "<Figure size 640x480 with 1 Axes>",
      "image/png": "[encoded data removed]"
     },
     "metadata": {},
     "output_type": "display_data"
    }
   ],
   "source": [
    "# Plot the data points\n",
    "plt.scatter(dogs_whisker_length, dogs_ear_flappiness_index, label='Dogs')\n",
    "plt.scatter(cats_whisker_length, cats_ear_flappiness_index, label='Cats')\n",
    "plt.xlabel('Whisker Length')\n",
    "plt.ylabel('Ear Flappiness Index')\n",
    "plt.title('Dog vs Cat Classification')\n",
    "plt.legend()\n",
    "plt.show()"
   ],
   "metadata": {
    "collapsed": false,
    "ExecuteTime": {
     "end_time": "2024-05-15T18:10:26.159962100Z",
     "start_time": "2024-05-15T18:10:21.362348100Z"
    }
   },
   "id": "56eb61d1827e25b7",
   "execution_count": 17
  },
  {
   "cell_type": "code",
   "outputs": [],
   "source": [
    "# Implementing random linear classifier algorithm\n",
    "def random_linear_classifier(data_dogs, data_cats, k, d):\n",
    "    # d is the number of features\n",
    "    best_error = float('inf')\n",
    "    best_theta = None\n",
    "    best_theta0 = None\n",
    "    \n",
    "    for _ in range(k):\n",
    "        theta = np.random.normal(size=d)\n",
    "        theta0 = np.random.normal()\n",
    "        \n",
    "        error = compute_error(data_dogs, data_cats, theta, theta0)\n",
    "        \n",
    "        if error < best_error:\n",
    "            best_error = error\n",
    "            best_theta = theta\n",
    "            best_theta0 = theta0\n",
    "    \n",
    "    return best_theta, best_theta0"
   ],
   "metadata": {
    "collapsed": false,
    "ExecuteTime": {
     "end_time": "2024-05-15T18:10:26.210814900Z",
     "start_time": "2024-05-15T18:10:26.124433700Z"
    }
   },
   "id": "28516580078491a5",
   "execution_count": 18
  },
  {
   "cell_type": "code",
   "outputs": [],
   "source": [
    "def compute_error(data_dogs, data_cats, theta, theta0):\n",
    "    error = 0\n",
    "    for x_dog in data_dogs:\n",
    "        if np.dot(theta, x_dog) + theta0 <= 0:\n",
    "            error += 1\n",
    "    for x_cat in data_cats:\n",
    "        if np.dot(theta, x_cat) + theta0 > 0:\n",
    "            error += 1\n",
    "    return error"
   ],
   "metadata": {
    "collapsed": false,
    "ExecuteTime": {
     "end_time": "2024-05-15T18:27:21.413683900Z",
     "start_time": "2024-05-15T18:27:21.345426800Z"
    }
   },
   "id": "874f78383de9c5df",
   "execution_count": 28
  },
  {
   "cell_type": "code",
   "outputs": [],
   "source": [
    "# Prepare data for algorithm\n",
    "dogs_data = np.vstack((dogs_whisker_length, dogs_ear_flappiness_index)).T\n",
    "cats_data = np.vstack((cats_whisker_length, cats_ear_flappiness_index)).T"
   ],
   "metadata": {
    "collapsed": false,
    "ExecuteTime": {
     "end_time": "2024-05-15T18:10:28.779805900Z",
     "start_time": "2024-05-15T18:10:26.625739600Z"
    }
   },
   "id": "6fd8ef24c5b77177",
   "execution_count": 20
  },
  {
   "cell_type": "code",
   "outputs": [
    {
     "data": {
      "text/plain": "array([[6.76405235, 8.14404357],\n       [5.40015721, 9.45427351],\n       [5.97873798, 8.76103773],\n       [7.2408932 , 8.12167502],\n       [6.86755799, 8.44386323],\n       [4.02272212, 8.33367433],\n       [5.95008842, 9.49407907],\n       [4.84864279, 7.79484174],\n       [4.89678115, 8.3130677 ],\n       [5.4105985 , 7.14590426]])"
     },
     "execution_count": 21,
     "metadata": {},
     "output_type": "execute_result"
    }
   ],
   "source": [
    "dogs_data"
   ],
   "metadata": {
    "collapsed": false,
    "ExecuteTime": {
     "end_time": "2024-05-15T18:10:28.916171300Z",
     "start_time": "2024-05-15T18:10:27.097223900Z"
    }
   },
   "id": "1188cd31453a6fc1",
   "execution_count": 21
  },
  {
   "cell_type": "code",
   "outputs": [
    {
     "data": {
      "text/plain": "array([[ 5.44701018,  5.15494743],\n       [ 8.6536186 ,  5.37816252],\n       [ 8.8644362 ,  4.11221425],\n       [ 7.25783498,  3.01920353],\n       [10.26975462,  4.65208785],\n       [ 6.54563433,  5.15634897],\n       [ 8.04575852,  6.23029068],\n       [ 7.81281615,  6.20237985],\n       [ 9.53277921,  4.61267318],\n       [ 9.46935877,  4.69769725]])"
     },
     "execution_count": 22,
     "metadata": {},
     "output_type": "execute_result"
    }
   ],
   "source": [
    "cats_data"
   ],
   "metadata": {
    "collapsed": false,
    "ExecuteTime": {
     "end_time": "2024-05-15T18:10:29.051944400Z",
     "start_time": "2024-05-15T18:10:27.700853900Z"
    }
   },
   "id": "75a57290169120b0",
   "execution_count": 22
  },
  {
   "cell_type": "code",
   "outputs": [],
   "source": [
    "# Run random linear classifier algorithm\n",
    "k = 200  # Number of iterations\n",
    "d = 2  # Number of features\n",
    "best_theta, best_theta0 = random_linear_classifier(dogs_data, cats_data, k, d)"
   ],
   "metadata": {
    "collapsed": false,
    "ExecuteTime": {
     "end_time": "2024-05-15T18:10:29.053965400Z",
     "start_time": "2024-05-15T18:10:28.193892500Z"
    }
   },
   "id": "2436e7c17ef0fee0",
   "execution_count": 23
  },
  {
   "cell_type": "code",
   "outputs": [
    {
     "data": {
      "text/plain": "array([-1.07075262,  1.05445173])"
     },
     "execution_count": 24,
     "metadata": {},
     "output_type": "execute_result"
    }
   ],
   "source": [
    "best_theta"
   ],
   "metadata": {
    "collapsed": false,
    "ExecuteTime": {
     "end_time": "2024-05-15T18:10:29.163991800Z",
     "start_time": "2024-05-15T18:10:28.303619Z"
    }
   },
   "id": "a363d9e28f9bef23",
   "execution_count": 24
  },
  {
   "cell_type": "code",
   "outputs": [
    {
     "data": {
      "text/plain": "-0.40317694697317963"
     },
     "execution_count": 25,
     "metadata": {},
     "output_type": "execute_result"
    }
   ],
   "source": [
    "best_theta0"
   ],
   "metadata": {
    "collapsed": false,
    "ExecuteTime": {
     "end_time": "2024-05-15T18:10:29.168162800Z",
     "start_time": "2024-05-15T18:10:28.319470600Z"
    }
   },
   "id": "fd30888148c72672",
   "execution_count": 25
  },
  {
   "cell_type": "code",
   "outputs": [],
   "source": [
    "# Plot the decision boundary\n",
    "x_vals = np.linspace(2, 10, 100)\n",
    "y_vals = (-best_theta[0] / best_theta[1]) * x_vals - (best_theta0 / best_theta[1])\n"
   ],
   "metadata": {
    "collapsed": false,
    "ExecuteTime": {
     "end_time": "2024-05-15T18:10:29.170209300Z",
     "start_time": "2024-05-15T18:10:28.337560200Z"
    }
   },
   "id": "3b79941051cc5c9e",
   "execution_count": 26
  },
  {
   "cell_type": "code",
   "outputs": [
    {
     "data": {
      "text/plain": "<Figure size 640x480 with 1 Axes>",
      "image/png": "[encoded data removed]"
     },
     "metadata": {},
     "output_type": "display_data"
    }
   ],
   "source": [
    "plt.scatter(dogs_whisker_length, dogs_ear_flappiness_index, label='Dogs')\n",
    "plt.scatter(cats_whisker_length, cats_ear_flappiness_index, label='Cats')\n",
    "plt.plot(x_vals, y_vals, color='red', linestyle='--', label='Decision Boundary')\n",
    "plt.xlabel('Whisker Length')\n",
    "plt.ylabel('Ear Flappiness Index')\n",
    "plt.title('Dog vs Cat Classification with Random Linear Classifier')\n",
    "plt.legend()\n",
    "plt.show()"
   ],
   "metadata": {
    "collapsed": false,
    "ExecuteTime": {
     "end_time": "2024-05-15T18:10:30.085394600Z",
     "start_time": "2024-05-15T18:10:28.360136700Z"
    }
   },
   "id": "795e3f3eaa2bbaa5",
   "execution_count": 27
  },
  {
   "cell_type": "markdown",
   "source": [
    "End of code."
   ],
   "metadata": {
    "collapsed": false
   },
   "id": "21905caf0e0219e0"
  }
 ],
 "metadata": {
  "kernelspec": {
   "display_name": "Python 3",
   "language": "python",
   "name": "python3"
  },
  "language_info": {
   "codemirror_mode": {
    "name": "ipython",
    "version": 2
   },
   "file_extension": ".py",
   "mimetype": "text/x-python",
   "name": "python",
   "nbconvert_exporter": "python",
   "pygments_lexer": "ipython2",
   "version": "2.7.6"
  }
 },
 "nbformat": 4,
 "nbformat_minor": 5
}
